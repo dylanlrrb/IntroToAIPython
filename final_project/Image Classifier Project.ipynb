{
 "cells": [
  {
   "cell_type": "markdown",
   "metadata": {},
   "source": [
    "# Developing an AI application\n",
    "\n",
    "Going forward, AI algorithms will be incorporated into more and more everyday applications. For example, you might want to include an image classifier in a smart phone app. To do this, you'd use a deep learning model trained on hundreds of thousands of images as part of the overall application architecture. A large part of software development in the future will be using these types of models as common parts of applications. \n",
    "\n",
    "In this project, you'll train an image classifier to recognize different species of flowers. You can imagine using something like this in a phone app that tells you the name of the flower your camera is looking at. In practice you'd train this classifier, then export it for use in your application. We'll be using [this dataset](http://www.robots.ox.ac.uk/~vgg/data/flowers/102/index.html) of 102 flower categories, you can see a few examples below. \n",
    "\n",
    "![Cover](./assets/Flowers.png)\n",
    "\n",
    "The project is broken down into multiple steps:\n",
    "\n",
    "* Load and preprocess the image dataset\n",
    "* Train the image classifier on your dataset\n",
    "* Use the trained classifier to predict image content\n",
    "\n",
    "We'll lead you through each part which you'll implement in Python.\n",
    "\n",
    "When you've completed this project, you'll have an application that can be trained on any set of labeled images. Here your network will be learning about flowers and end up as a command line application. But, what you do with your new skills depends on your imagination and effort in building a dataset. For example, imagine an app where you take a picture of a car, it tells you what the make and model is, then looks up information about it. Go build your own dataset and make something new.\n",
    "\n",
    "First up is importing the packages you'll need. It's good practice to keep all the imports at the beginning of your code. As you work through this notebook and find you need to import a package, make sure to add the import up here."
   ]
  },
  {
   "cell_type": "code",
   "execution_count": 1,
   "metadata": {},
   "outputs": [
    {
     "name": "stdout",
     "output_type": "stream",
     "text": [
      "sys.version_info(major=3, minor=5, micro=2, releaselevel='final', serial=0)\n"
     ]
    }
   ],
   "source": [
    "%config IPCompleter.greedy=True\n",
    "%matplotlib inline\n",
    "%config InlineBackend.figure_format = 'retina'\n",
    "\n",
    "import matplotlib.pyplot as plt\n",
    "\n",
    "import torch\n",
    "import numpy as np\n",
    "from torch import nn\n",
    "from torch import optim\n",
    "import torch.nn.functional as F\n",
    "from torchvision import datasets, transforms, models\n",
    "from collections import OrderedDict\n",
    "from PIL import Image\n",
    "import numpy as np\n",
    "import json\n",
    "import math\n",
    "import sys\n",
    "print(sys.version_info)"
   ]
  },
  {
   "cell_type": "markdown",
   "metadata": {},
   "source": [
    "## Load the data\n",
    "\n",
    "Here you'll use `torchvision` to load the data ([documentation](http://pytorch.org/docs/0.3.0/torchvision/index.html)). The data should be included alongside this notebook, otherwise you can [download it here](https://s3.amazonaws.com/content.udacity-data.com/nd089/flower_data.tar.gz). The dataset is split into three parts, training, validation, and testing. For the training, you'll want to apply transformations such as random scaling, cropping, and flipping. This will help the network generalize leading to better performance. You'll also need to make sure the input data is resized to 224x224 pixels as required by the pre-trained networks.\n",
    "\n",
    "The validation and testing sets are used to measure the model's performance on data it hasn't seen yet. For this you don't want any scaling or rotation transformations, but you'll need to resize then crop the images to the appropriate size.\n",
    "\n",
    "The pre-trained networks you'll use were trained on the ImageNet dataset where each color channel was normalized separately. For all three sets you'll need to normalize the means and standard deviations of the images to what the network expects. For the means, it's `[0.485, 0.456, 0.406]` and for the standard deviations `[0.229, 0.224, 0.225]`, calculated from the ImageNet images.  These values will shift each color channel to be centered at 0 and range from -1 to 1.\n",
    " "
   ]
  },
  {
   "cell_type": "code",
   "execution_count": 2,
   "metadata": {},
   "outputs": [],
   "source": [
    "data_dir = 'flowers'\n",
    "train_dir = data_dir + '/train'\n",
    "valid_dir = data_dir + '/valid'\n",
    "test_dir = data_dir + '/test'"
   ]
  },
  {
   "cell_type": "code",
   "execution_count": 3,
   "metadata": {},
   "outputs": [],
   "source": [
    "# Define normalization transform for reuse\n",
    "noramlize = transforms.Normalize((0.485, 0.456, 0.406), (0.229, 0.224, 0.225))\n",
    "\n",
    "data_transforms = {\n",
    "    'train': transforms.Compose([transforms.RandomRotation(30),\n",
    "                                     transforms.RandomHorizontalFlip(),\n",
    "                                     transforms.RandomResizedCrop(224),\n",
    "                                     transforms.ToTensor(),\n",
    "                                     noramlize]),\n",
    "    'valid': transforms.Compose([transforms.Resize(255),\n",
    "                                     transforms.CenterCrop(224),\n",
    "                                     transforms.ToTensor(),\n",
    "                                     noramlize]),\n",
    "    'test': transforms.Compose([transforms.Resize(255),\n",
    "                                     transforms.CenterCrop(224),\n",
    "                                     transforms.ToTensor(),\n",
    "                                     noramlize])\n",
    "    \n",
    "}\n",
    "\n",
    "# Load the datasets with ImageFolder\n",
    "image_datasets = {\n",
    "    'train': datasets.ImageFolder(train_dir, transform=data_transforms['train']),\n",
    "    'valid': datasets.ImageFolder(valid_dir, transform=data_transforms['valid']),\n",
    "    'test':  datasets.ImageFolder(test_dir, transform=data_transforms['test'])\n",
    "}\n",
    "\n",
    "# define the dataloaders using the image datasets and the trainforms,\n",
    "dataloaders = {\n",
    "    'train': torch.utils.data.DataLoader(image_datasets['train'], batch_size=64, shuffle=True),\n",
    "    'valid': torch.utils.data.DataLoader(image_datasets['valid'], batch_size=32, shuffle=True),\n",
    "    'test':  torch.utils.data.DataLoader(image_datasets['test'], batch_size=32, shuffle=True)\n",
    "}"
   ]
  },
  {
   "cell_type": "markdown",
   "metadata": {},
   "source": [
    "### Label mapping\n",
    "\n",
    "You'll also need to load in a mapping from category label to category name. You can find this in the file `cat_to_name.json`. It's a JSON object which you can read in with the [`json` module](https://docs.python.org/2/library/json.html). This will give you a dictionary mapping the integer encoded categories to the actual names of the flowers."
   ]
  },
  {
   "cell_type": "code",
   "execution_count": 4,
   "metadata": {},
   "outputs": [],
   "source": [
    "with open('cat_to_name.json', 'r') as f:\n",
    "    cat_to_name = json.load(f)"
   ]
  },
  {
   "cell_type": "markdown",
   "metadata": {},
   "source": [
    "# Building and training the classifier\n",
    "\n",
    "Now that the data is ready, it's time to build and train the classifier. As usual, you should use one of the pretrained models from `torchvision.models` to get the image features. Build and train a new feed-forward classifier using those features.\n",
    "\n",
    "We're going to leave this part up to you. If you want to talk through it with someone, chat with your fellow students! You can also ask questions on the forums or join the instructors in office hours.\n",
    "\n",
    "Refer to [the rubric](https://review.udacity.com/#!/rubrics/1663/view) for guidance on successfully completing this section. Things you'll need to do:\n",
    "\n",
    "* Load a [pre-trained network](http://pytorch.org/docs/master/torchvision/models.html) (If you need a starting point, the VGG networks work great and are straightforward to use)\n",
    "* Define a new, untrained feed-forward network as a classifier, using ReLU activations and dropout\n",
    "* Train the classifier layers using backpropagation using the pre-trained network to get the features\n",
    "* Track the loss and accuracy on the validation set to determine the best hyperparameters\n",
    "\n",
    "We've left a cell open for you below, but use as many as you need. Our advice is to break the problem up into smaller parts you can run separately. Check that each part is doing what you expect, then move on to the next. You'll likely find that as you work through each part, you'll need to go back and modify your previous code. This is totally normal!\n",
    "\n",
    "When training make sure you're updating only the weights of the feed-forward network. You should be able to get the validation accuracy above 70% if you build everything right. Make sure to try different hyperparameters (learning rate, units in the classifier, epochs, etc) to find the best model. Save those hyperparameters to use as default values in the next part of the project."
   ]
  },
  {
   "cell_type": "code",
   "execution_count": 5,
   "metadata": {},
   "outputs": [
    {
     "name": "stderr",
     "output_type": "stream",
     "text": [
      "Downloading: \"https://download.pytorch.org/models/vgg16-397923af.pth\" to /root/.cache/torch/checkpoints/vgg16-397923af.pth\n",
      "100.0%\n"
     ]
    },
    {
     "name": "stdout",
     "output_type": "stream",
     "text": [
      "VGG(\n",
      "  (features): Sequential(\n",
      "    (0): Conv2d(3, 64, kernel_size=(3, 3), stride=(1, 1), padding=(1, 1))\n",
      "    (1): ReLU(inplace=True)\n",
      "    (2): Conv2d(64, 64, kernel_size=(3, 3), stride=(1, 1), padding=(1, 1))\n",
      "    (3): ReLU(inplace=True)\n",
      "    (4): MaxPool2d(kernel_size=2, stride=2, padding=0, dilation=1, ceil_mode=False)\n",
      "    (5): Conv2d(64, 128, kernel_size=(3, 3), stride=(1, 1), padding=(1, 1))\n",
      "    (6): ReLU(inplace=True)\n",
      "    (7): Conv2d(128, 128, kernel_size=(3, 3), stride=(1, 1), padding=(1, 1))\n",
      "    (8): ReLU(inplace=True)\n",
      "    (9): MaxPool2d(kernel_size=2, stride=2, padding=0, dilation=1, ceil_mode=False)\n",
      "    (10): Conv2d(128, 256, kernel_size=(3, 3), stride=(1, 1), padding=(1, 1))\n",
      "    (11): ReLU(inplace=True)\n",
      "    (12): Conv2d(256, 256, kernel_size=(3, 3), stride=(1, 1), padding=(1, 1))\n",
      "    (13): ReLU(inplace=True)\n",
      "    (14): Conv2d(256, 256, kernel_size=(3, 3), stride=(1, 1), padding=(1, 1))\n",
      "    (15): ReLU(inplace=True)\n",
      "    (16): MaxPool2d(kernel_size=2, stride=2, padding=0, dilation=1, ceil_mode=False)\n",
      "    (17): Conv2d(256, 512, kernel_size=(3, 3), stride=(1, 1), padding=(1, 1))\n",
      "    (18): ReLU(inplace=True)\n",
      "    (19): Conv2d(512, 512, kernel_size=(3, 3), stride=(1, 1), padding=(1, 1))\n",
      "    (20): ReLU(inplace=True)\n",
      "    (21): Conv2d(512, 512, kernel_size=(3, 3), stride=(1, 1), padding=(1, 1))\n",
      "    (22): ReLU(inplace=True)\n",
      "    (23): MaxPool2d(kernel_size=2, stride=2, padding=0, dilation=1, ceil_mode=False)\n",
      "    (24): Conv2d(512, 512, kernel_size=(3, 3), stride=(1, 1), padding=(1, 1))\n",
      "    (25): ReLU(inplace=True)\n",
      "    (26): Conv2d(512, 512, kernel_size=(3, 3), stride=(1, 1), padding=(1, 1))\n",
      "    (27): ReLU(inplace=True)\n",
      "    (28): Conv2d(512, 512, kernel_size=(3, 3), stride=(1, 1), padding=(1, 1))\n",
      "    (29): ReLU(inplace=True)\n",
      "    (30): MaxPool2d(kernel_size=2, stride=2, padding=0, dilation=1, ceil_mode=False)\n",
      "  )\n",
      "  (avgpool): AdaptiveAvgPool2d(output_size=(7, 7))\n",
      "  (classifier): Sequential(\n",
      "    (fc1): Linear(in_features=25088, out_features=1000, bias=True)\n",
      "    (relu1): ReLU()\n",
      "    (drop1): Dropout(p=0.5, inplace=False)\n",
      "    (fc_final): Linear(in_features=1000, out_features=102, bias=True)\n",
      "    (output): LogSoftmax()\n",
      "  )\n",
      ")\n"
     ]
    }
   ],
   "source": [
    "# Load network as feature detector\n",
    "def build_network(arch=\"vgg16\", out_features=102, hidden_layers=[1000]):\n",
    "    model = getattr(models, arch)(pretrained=True)\n",
    "\n",
    "    # Freeze the params from training\n",
    "    for param in model.parameters():\n",
    "        param.requires_grad = False\n",
    "\n",
    "    # Find the number of in features the classifier expects\n",
    "    try:\n",
    "        iter(model.classifier)\n",
    "    except TypeError:\n",
    "        in_features = model.classifier.in_features\n",
    "    else:\n",
    "        in_features = model.classifier[0].in_features\n",
    "    \n",
    "    hidden_layers = [in_features] + hidden_layers\n",
    "    \n",
    "    # Define how to build a hidden layer\n",
    "    layer_builder = (\n",
    "        lambda i, v: ((\"fc\" + str(i)), nn.Linear(hidden_layers[i-1], v)),\n",
    "        lambda i, v: ((\"relu\" + str(i)), nn.ReLU()),\n",
    "        lambda i, v: ((\"drop\" + str(i)), nn.Dropout())\n",
    "    )\n",
    "    \n",
    "    # Loop through hidden_layers array and build a layer for each\n",
    "    layers = [f(i, v) for i, v in enumerate(hidden_layers) if i > 0 for f in layer_builder]\n",
    "    # Concat the output layer onto the network\n",
    "    layers += [('fc_final', nn.Linear(hidden_layers[-1], out_features)),\n",
    "               ('output', nn.LogSoftmax(dim=1))]\n",
    "    \n",
    "    classifier = nn.Sequential(OrderedDict(layers))\n",
    "\n",
    "    # Replace classifier with our classifier\n",
    "    model.classifier = classifier\n",
    "\n",
    "    return model\n",
    "\n",
    "model = build_network()\n",
    "print(model)"
   ]
  },
  {
   "cell_type": "code",
   "execution_count": 6,
   "metadata": {},
   "outputs": [],
   "source": [
    "def validate(model, criterion, testing_set):\n",
    "    accuracy = 0\n",
    "    test_loss = 0\n",
    "    model.eval() # Evaluation mode\n",
    "    with torch.no_grad():\n",
    "        for images, labels in testing_set:\n",
    "            \n",
    "            images = images.to(device)\n",
    "            labels = labels.to(device)\n",
    "\n",
    "            output = model.forward(images)\n",
    "            test_loss += criterion(output, labels).item()\n",
    "\n",
    "            # Take exponential to get log softmax probibilities\n",
    "            probs = torch.exp(output)\n",
    "\n",
    "            # highest probability is the predicted class\n",
    "            # compare with true label\n",
    "            correct_predictions = (labels.data == probs.max(1)[1])\n",
    "\n",
    "            # Turn ByteTensor into np_array to calculate mean\n",
    "            accuracy += np.array(correct_predictions.cpu()).mean()\n",
    "    \n",
    "    model.train() # Switch training mode back on\n",
    "    \n",
    "    return test_loss/len(testing_set), accuracy/len(testing_set)\n",
    "\n",
    "def train(model, criterion, optimizer, traning_set, testing_set, epochs=5, log_frequency=20):\n",
    "    \n",
    "    batch = 0\n",
    "    train_loss = 0\n",
    "    for epoch in range(epochs):\n",
    "        model.train() # Turn on training mode\n",
    "        \n",
    "        for images, labels in traning_set:\n",
    "            batch += 1\n",
    "\n",
    "            images = images.to(device)\n",
    "            labels = labels.to(device)\n",
    "\n",
    "            optimizer.zero_grad() # Prevent gradients from accumulating\n",
    "            \n",
    "            output = model.forward(images)\n",
    "            loss = criterion(output, labels) # Calculate loss\n",
    "            # Back-prop\n",
    "            loss.backward()\n",
    "            optimizer.step()\n",
    "            \n",
    "            train_loss += loss.item()\n",
    "            if batch % log_frequency == 0:\n",
    "                \n",
    "                test_loss, accuracy = validate(model, criterion, testing_set)\n",
    "                \n",
    "                print(\"Epoch: {} of {}, \".format(epoch+1, epochs),\n",
    "                      \"Train Loss: {:.3f}, \".format(train_loss/log_frequency),\n",
    "                      \"Test Loss: {:.3f}, \".format(test_loss),\n",
    "                      \"Accuracy: %{:.1f}\".format(accuracy*100))\n",
    "                \n",
    "                train_loss = 0"
   ]
  },
  {
   "cell_type": "code",
   "execution_count": 7,
   "metadata": {},
   "outputs": [
    {
     "name": "stdout",
     "output_type": "stream",
     "text": [
      "training on device: cuda:0\n"
     ]
    }
   ],
   "source": [
    "# Use GPU if available\n",
    "device = torch.device(\"cuda:0\" if torch.cuda.is_available() else \"cpu\")\n",
    "print(\"training on device:\", device)\n",
    "model.to(device);"
   ]
  },
  {
   "cell_type": "code",
   "execution_count": null,
   "metadata": {},
   "outputs": [
    {
     "name": "stdout",
     "output_type": "stream",
     "text": [
      "begin training\n",
      "Epoch: 1 of 3,  Train Loss: 4.497,  Test Loss: 2.752,  Accuracy: %40.9\n",
      "Epoch: 1 of 3,  Train Loss: 2.967,  Test Loss: 1.817,  Accuracy: %56.9\n",
      "Epoch: 1 of 3,  Train Loss: 2.485,  Test Loss: 1.327,  Accuracy: %68.3\n",
      "Epoch: 1 of 3,  Train Loss: 2.148,  Test Loss: 1.074,  Accuracy: %71.4\n",
      "Epoch: 1 of 3,  Train Loss: 1.948,  Test Loss: 0.872,  Accuracy: %78.6\n",
      "Epoch: 2 of 3,  Train Loss: 1.745,  Test Loss: 0.826,  Accuracy: %79.2\n",
      "Epoch: 2 of 3,  Train Loss: 1.635,  Test Loss: 0.764,  Accuracy: %80.4\n",
      "Epoch: 2 of 3,  Train Loss: 1.574,  Test Loss: 0.692,  Accuracy: %80.3\n",
      "Epoch: 2 of 3,  Train Loss: 1.448,  Test Loss: 0.646,  Accuracy: %82.7\n",
      "Epoch: 2 of 3,  Train Loss: 1.481,  Test Loss: 0.558,  Accuracy: %84.6\n",
      "Epoch: 3 of 3,  Train Loss: 1.434,  Test Loss: 0.589,  Accuracy: %84.1\n",
      "Epoch: 3 of 3,  Train Loss: 1.372,  Test Loss: 0.598,  Accuracy: %83.3\n",
      "Epoch: 3 of 3,  Train Loss: 1.371,  Test Loss: 0.562,  Accuracy: %84.6\n",
      "Epoch: 3 of 3,  Train Loss: 1.345,  Test Loss: 0.531,  Accuracy: %85.3\n"
     ]
    }
   ],
   "source": [
    "criterion = nn.NLLLoss()\n",
    "optimizer = optim.Adam(model.classifier.parameters(), lr=0.001)\n",
    "\n",
    "print(\"begin training\")\n",
    "train(model, criterion, optimizer, dataloaders['train'], dataloaders['valid'], epochs=3, log_frequency=20)\n",
    "print(\"trained\")"
   ]
  },
  {
   "cell_type": "markdown",
   "metadata": {},
   "source": [
    "## Testing your network\n",
    "\n",
    "It's good practice to test your trained network on test data, images the network has never seen either in training or validation. This will give you a good estimate for the model's performance on completely new images. Run the test images through the network and measure the accuracy, the same way you did validation. You should be able to reach around 70% accuracy on the test set if the model has been trained well."
   ]
  },
  {
   "cell_type": "code",
   "execution_count": null,
   "metadata": {},
   "outputs": [],
   "source": [
    "# Check the test loss and accuracy of the trained network\n",
    "test_loss, accuracy = validate(model, criterion, dataloaders['test'])\n",
    "print(\"Network preformance on test dataset-------------\")\n",
    "print(\"Accuracy on test dataset: %{:.1f}\".format(accuracy*100))"
   ]
  },
  {
   "cell_type": "markdown",
   "metadata": {},
   "source": [
    "## Save the checkpoint\n",
    "\n",
    "Now that your network is trained, save the model so you can load it later for making predictions. You probably want to save other things such as the mapping of classes to indices which you get from one of the image datasets: `image_datasets['train'].class_to_idx`. You can attach this to the model as an attribute which makes inference easier later on.\n",
    "\n",
    "```model.class_to_idx = image_datasets['train'].class_to_idx```\n",
    "\n",
    "Remember that you'll want to completely rebuild the model later so you can use it for inference. Make sure to include any information you need in the checkpoint. If you want to load the model and keep training, you'll want to save the number of epochs as well as the optimizer state, `optimizer.state_dict`. You'll likely want to use this trained model in the next part of the project, so best to save it now."
   ]
  },
  {
   "cell_type": "code",
   "execution_count": null,
   "metadata": {},
   "outputs": [],
   "source": [
    "model.class_to_idx = image_datasets['train'].class_to_idx\n",
    "\n",
    "checkpoint = {\n",
    "    \"arch\": \"vgg16\",\n",
    "    \"class_to_idx\": model.class_to_idx,\n",
    "    'state_dict': model.state_dict(),\n",
    "    \"hidden_layers\": [1000]\n",
    "}\n",
    "\n",
    "torch.save(checkpoint, \"checkpoint.pt\")\n",
    "print(\"saved checkpoint\")"
   ]
  },
  {
   "cell_type": "markdown",
   "metadata": {},
   "source": [
    "## Loading the checkpoint\n",
    "\n",
    "At this point it's good to write a function that can load a checkpoint and rebuild the model. That way you can come back to this project and keep working on it without having to retrain the network."
   ]
  },
  {
   "cell_type": "code",
   "execution_count": null,
   "metadata": {},
   "outputs": [],
   "source": [
    "def load_model(path):\n",
    "    checkpoint = torch.load(path)\n",
    "\n",
    "    arch = checkpoint['arch']\n",
    "    out_features = len(checkpoint['class_to_idx'])\n",
    "    hidden_layers = checkpoint['hidden_layers']\n",
    "\n",
    "    # For loading, use the same build_network function used to make saved model's network\n",
    "    model = build_network(arch, out_features, hidden_layers)\n",
    "    model.load_state_dict(checkpoint['state_dict'])\n",
    "\n",
    "    model.class_to_idx = checkpoint['class_to_idx']\n",
    "    \n",
    "    return model\n",
    "    \n",
    "loaded_model = load_model('checkpoint.pt')\n",
    "print(\"loaded\")"
   ]
  },
  {
   "cell_type": "markdown",
   "metadata": {},
   "source": [
    "# Inference for classification\n",
    "\n",
    "Now you'll write a function to use a trained network for inference. That is, you'll pass an image into the network and predict the class of the flower in the image. Write a function called `predict` that takes an image and a model, then returns the top $K$ most likely classes along with the probabilities. It should look like \n",
    "\n",
    "```python\n",
    "probs, classes = predict(image_path, model)\n",
    "print(probs)\n",
    "print(classes)\n",
    "> [ 0.01558163  0.01541934  0.01452626  0.01443549  0.01407339]\n",
    "> ['70', '3', '45', '62', '55']\n",
    "```\n",
    "\n",
    "First you'll need to handle processing the input image such that it can be used in your network. \n",
    "\n",
    "## Image Preprocessing\n",
    "\n",
    "You'll want to use `PIL` to load the image ([documentation](https://pillow.readthedocs.io/en/latest/reference/Image.html)). It's best to write a function that preprocesses the image so it can be used as input for the model. This function should process the images in the same manner used for training. \n",
    "\n",
    "First, resize the images where the shortest side is 256 pixels, keeping the aspect ratio. This can be done with the [`thumbnail`](http://pillow.readthedocs.io/en/3.1.x/reference/Image.html#PIL.Image.Image.thumbnail) or [`resize`](http://pillow.readthedocs.io/en/3.1.x/reference/Image.html#PIL.Image.Image.thumbnail) methods. Then you'll need to crop out the center 224x224 portion of the image.\n",
    "\n",
    "Color channels of images are typically encoded as integers 0-255, but the model expected floats 0-1. You'll need to convert the values. It's easiest with a Numpy array, which you can get from a PIL image like so `np_image = np.array(pil_image)`.\n",
    "\n",
    "As before, the network expects the images to be normalized in a specific way. For the means, it's `[0.485, 0.456, 0.406]` and for the standard deviations `[0.229, 0.224, 0.225]`. You'll want to subtract the means from each color channel, then divide by the standard deviation. \n",
    "\n",
    "And finally, PyTorch expects the color channel to be the first dimension but it's the third dimension in the PIL image and Numpy array. You can reorder dimensions using [`ndarray.transpose`](https://docs.scipy.org/doc/numpy-1.13.0/reference/generated/numpy.ndarray.transpose.html). The color channel needs to be first and retain the order of the other two dimensions."
   ]
  },
  {
   "cell_type": "code",
   "execution_count": null,
   "metadata": {},
   "outputs": [],
   "source": [
    "def process_image(image_path):\n",
    "    ''' Scales, crops, and normalizes a PIL image for a PyTorch model,\n",
    "        returns an Numpy array\n",
    "    '''\n",
    "    # Open the image\n",
    "    pil_image = Image.open(image_path)\n",
    "    \n",
    "    # Resize the image\n",
    "    if pil_image.size[1] < pil_image.size[0]:\n",
    "        pil_image.thumbnail((255, math.pow(255, 2)))\n",
    "    else:\n",
    "        pil_image.thumbnail((math.pow(255, 2), 255))\n",
    "                            \n",
    "    # Crop the image\n",
    "    left = (pil_image.width-224)/2\n",
    "    bottom = (pil_image.height-224)/2\n",
    "    right = left + 224\n",
    "    top = bottom + 224\n",
    "                            \n",
    "    pil_image = pil_image.crop((left, bottom, right, top))\n",
    "                            \n",
    "    # Turn into np_array\n",
    "    np_image = np.array(pil_image)/255\n",
    "    \n",
    "    # Undo mean and std then transpose\n",
    "    mean = np.array([0.485, 0.456, 0.406])\n",
    "    std = np.array([0.229, 0.224, 0.225])  \n",
    "    np_image = (np_image - mean)/std\n",
    "    np_image = np.transpose(np_image, (2, 0, 1))\n",
    "    \n",
    "    return np_image"
   ]
  },
  {
   "cell_type": "markdown",
   "metadata": {},
   "source": [
    "To check your work, the function below converts a PyTorch tensor and displays it in the notebook. If your `process_image` function works, running the output through this function should return the original image (except for the cropped out portions)."
   ]
  },
  {
   "cell_type": "code",
   "execution_count": null,
   "metadata": {},
   "outputs": [],
   "source": [
    "def imshow(image, ax=None, title=''):\n",
    "    if ax is None:\n",
    "        fig, ax = plt.subplots()\n",
    "    \n",
    "    # PyTorch tensors assume the color channel is the first dimension\n",
    "    # but matplotlib assumes is the third dimension\n",
    "    image = image.transpose((1, 2, 0))\n",
    "    \n",
    "    # Undo preprocessing\n",
    "    mean = np.array([0.485, 0.456, 0.406])\n",
    "    std = np.array([0.229, 0.224, 0.225])\n",
    "    image = std * image + mean\n",
    "    \n",
    "    # Image needs to be clipped between 0 and 1 or it looks like noise when displayed\n",
    "    image = np.clip(image, 0, 1)\n",
    "    \n",
    "    ax.imshow(image)\n",
    "    ax.set_title(title)\n",
    "    \n",
    "    plt.show(ax)\n",
    "    \n",
    "    return ax"
   ]
  },
  {
   "cell_type": "markdown",
   "metadata": {},
   "source": [
    "## Class Prediction\n",
    "\n",
    "Once you can get images in the correct format, it's time to write a function for making predictions with your model. A common practice is to predict the top 5 or so (usually called top-$K$) most probable classes. You'll want to calculate the class probabilities then find the $K$ largest values.\n",
    "\n",
    "To get the top $K$ largest values in a tensor use [`x.topk(k)`](http://pytorch.org/docs/master/torch.html#torch.topk). This method returns both the highest `k` probabilities and the indices of those probabilities corresponding to the classes. You need to convert from these indices to the actual class labels using `class_to_idx` which hopefully you added to the model or from an `ImageFolder` you used to load the data ([see here](#Save-the-checkpoint)). Make sure to invert the dictionary so you get a mapping from index to class as well.\n",
    "\n",
    "Again, this method should take a path to an image and a model checkpoint, then return the probabilities and classes.\n",
    "\n",
    "```python\n",
    "probs, classes = predict(image_path, model)\n",
    "print(probs)\n",
    "print(classes)\n",
    "> [ 0.01558163  0.01541934  0.01452626  0.01443549  0.01407339]\n",
    "> ['70', '3', '45', '62', '55']\n",
    "```"
   ]
  },
  {
   "cell_type": "code",
   "execution_count": null,
   "metadata": {},
   "outputs": [],
   "source": [
    "def predict(image_path, model, topk=5):\n",
    "    ''' Predict the class (or classes) of an image using a trained deep learning model.\n",
    "    '''\n",
    "    if topk < 1:\n",
    "        topk = 1\n",
    "        \n",
    "    device = torch.device(\"cuda:0\" if torch.cuda.is_available() else \"cpu\")\n",
    "    model.to(device)\n",
    "    \n",
    "    model.eval()\n",
    "    \n",
    "    # Turn the np_array image into a FloatTensor\n",
    "    # before running through model\n",
    "    tensor_img = torch.FloatTensor([process_image(image_path)])\n",
    "    # Note: model expects an 1D array of tensors of size (3, 244, 244)\n",
    "    # so that's why I'm putting the result of process_image()\n",
    "    # in brackets before passing into FloatTensor()\n",
    "    # in other words, model expects a tensor of size (1, 3, 244, 244)\n",
    "    # you coud also use `tensor_img = tensor_img.unsqueeze(0)`\n",
    "    \n",
    "    tensor_img = tensor_img.to(device)\n",
    "    \n",
    "    result = model(tensor_img).topk(topk)\n",
    "    \n",
    "    # Take the natural exponent of each probablility\n",
    "    # to undo the natural log from the NLLLoss criterion\n",
    "    probs = torch.exp(result[0].data).cpu().numpy()[0]\n",
    "    # .cpu() to take the tensor off gpu\n",
    "    # so it can be turned into a np_array\n",
    "    # .cpu() should not be called if predicting on a cpu already\n",
    "    idxs = result[1].data.cpu().numpy()[0]\n",
    "    \n",
    "    return(probs, idxs)\n"
   ]
  },
  {
   "cell_type": "markdown",
   "metadata": {},
   "source": [
    "## Sanity Checking\n",
    "\n",
    "Now that you can use a trained model for predictions, check to make sure it makes sense. Even if the testing accuracy is high, it's always good to check that there aren't obvious bugs. Use `matplotlib` to plot the probabilities for the top 5 classes as a bar graph, along with the input image. It should look like this:\n",
    "\n",
    "<img src='assets/inference_example.png' width=300px>\n",
    "\n",
    "You can convert from the class integer encoding to actual flower names with the `cat_to_name.json` file (should have been loaded earlier in the notebook). To show a PyTorch tensor as an image, use the `imshow` function defined above."
   ]
  },
  {
   "cell_type": "code",
   "execution_count": null,
   "metadata": {},
   "outputs": [],
   "source": [
    "test_image_path = test_dir + '/85/image_04805.jpg'\n",
    "test_image_name = cat_to_name[str(test_image_path.split('/')[-2])]\n",
    "\n",
    "# Show the image for reference\n",
    "imshow(process_image(test_image_path), title=test_image_name);\n",
    "\n",
    "# Get the probabilties and indices from passing the image through the model\n",
    "probs, idxs = predict(test_image_path, loaded_model)\n",
    "\n",
    "# Swap the keys and values in class_to_idx so that\n",
    "# indices can be mapped to original classes in dataset\n",
    "idx_to_class = {v: k for k, v in loaded_model.class_to_idx.items()}\n",
    "\n",
    "# Map the classes to flower category lables                              \n",
    "names = list(map(lambda x: cat_to_name[str(idx_to_class[x])], idxs))\n",
    "\n",
    "# Display top 5 most probable flower categories                               \n",
    "y_pos = np.arange(len(names))\n",
    "plt.barh(y_pos, probs)\n",
    "plt.yticks(y_pos, names)\n",
    "plt.gca().invert_yaxis()\n",
    " \n",
    "plt.show()"
   ]
  },
  {
   "cell_type": "code",
   "execution_count": null,
   "metadata": {},
   "outputs": [],
   "source": []
  }
 ],
 "metadata": {
  "kernelspec": {
   "display_name": "Python 3",
   "language": "python",
   "name": "python3"
  },
  "language_info": {
   "codemirror_mode": {
    "name": "ipython",
    "version": 3
   },
   "file_extension": ".py",
   "mimetype": "text/x-python",
   "name": "python",
   "nbconvert_exporter": "python",
   "pygments_lexer": "ipython3",
   "version": "3.5.2"
  }
 },
 "nbformat": 4,
 "nbformat_minor": 2
}
